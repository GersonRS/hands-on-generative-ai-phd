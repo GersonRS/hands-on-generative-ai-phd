{
 "cells": [
  {
   "cell_type": "markdown",
   "metadata": {},
   "source": [
    "# 💬 IA Generativa com RAG e Agentes\n",
    "\n",
    "Este notebook demonstra como utilizar:\n",
    "- Recuperação aumentada com geração (RAG) usando LangChain + Qdrant\n",
    "- Agentes com ferramentas e memória usando LangChain\n",
    "\n",
    "Vamos começar!"
   ]
  },
  {
   "cell_type": "code",
   "execution_count": 2,
   "id": "29cf0dbb",
   "metadata": {},
   "outputs": [],
   "source": [
    "# ✅ Instalação de dependências\n",
    "# !pip install -U langchain langchain-community openai qdrant-client duckduckgo-search tiktoken"
   ]
  },
  {
   "cell_type": "code",
   "execution_count": 4,
   "id": "dc6bceb7",
   "metadata": {},
   "outputs": [
    {
     "data": {
      "text/plain": [
       "True"
      ]
     },
     "execution_count": 4,
     "metadata": {},
     "output_type": "execute_result"
    }
   ],
   "source": [
    "from dotenv import load_dotenv\n",
    "\n",
    "load_dotenv()"
   ]
  },
  {
   "cell_type": "markdown",
   "id": "54ad88fc",
   "metadata": {},
   "source": [
    "## 🔍 Exemplo RAG com Qdrant"
   ]
  },
  {
   "cell_type": "code",
   "execution_count": 6,
   "id": "75f3ef23",
   "metadata": {},
   "outputs": [
    {
     "data": {
      "text/plain": [
       "{'query': 'Como a IA pode ser usada?',\n",
       " 'result': 'A IA pode ser usada para uma variedade de tarefas, como reconhecimento de padrões, processamento de linguagem natural, controle de sistemas autônomos, entre outras aplicações. Ela pode ajudar a automatizar processos, otimizar sistemas e até mesmo gerar texto com base em documentos técnicos, como mencionado anteriormente.'}"
      ]
     },
     "execution_count": 6,
     "metadata": {},
     "output_type": "execute_result"
    }
   ],
   "source": [
    "from langchain.embeddings import OpenAIEmbeddings\n",
    "from langchain.vectorstores import Qdrant\n",
    "from langchain.schema import Document\n",
    "from langchain.text_splitter import RecursiveCharacterTextSplitter\n",
    "from langchain.chains import RetrievalQA\n",
    "from langchain_openai import ChatOpenAI\n",
    "\n",
    "# Simulando documentos\n",
    "docs = [Document(page_content=\"IA pode ser usada para gerar texto com base em documentos técnicos.\")]\n",
    "\n",
    "splitter = RecursiveCharacterTextSplitter(chunk_size=100, chunk_overlap=20)\n",
    "chunks = splitter.split_documents(docs)\n",
    "\n",
    "embeddings = OpenAIEmbeddings()\n",
    "qdrant = Qdrant.from_documents(chunks, embeddings, location=\":memory:\", collection_name=\"meus_docs\")\n",
    "\n",
    "qa = RetrievalQA.from_chain_type(llm=ChatOpenAI(), retriever=qdrant.as_retriever())\n",
    "qa.invoke(\"Como a IA pode ser usada?\")"
   ]
  },
  {
   "cell_type": "markdown",
   "metadata": {},
   "source": [
    "## 🤖 Agente com Busca Web"
   ]
  },
  {
   "cell_type": "code",
   "execution_count": 7,
   "metadata": {},
   "outputs": [
    {
     "name": "stderr",
     "output_type": "stream",
     "text": [
      "/tmp/ipykernel_188480/4183391828.py:8: LangChainDeprecationWarning: Please see the migration guide at: https://python.langchain.com/docs/versions/migrating_memory/\n",
      "  memory = ConversationBufferMemory(memory_key=\"chat_history\", return_messages=True)\n",
      "/tmp/ipykernel_188480/4183391828.py:9: LangChainDeprecationWarning: LangChain agents will continue to be supported, but it is recommended for new use cases to be built with LangGraph. LangGraph offers a more flexible and full-featured framework for building agents, including support for tool-calling, persistence of state, and human-in-the-loop workflows. For details, refer to the `LangGraph documentation <https://langchain-ai.github.io/langgraph/>`_ as well as guides for `Migrating from AgentExecutor <https://python.langchain.com/docs/how_to/migrate_agent/>`_ and LangGraph's `Pre-built ReAct agent <https://langchain-ai.github.io/langgraph/how-tos/create-react-agent/>`_.\n",
      "  agent = initialize_agent(tools, ChatOpenAI(), agent=AgentType.CONVERSATIONAL_REACT_DESCRIPTION, memory=memory)\n"
     ]
    },
    {
     "data": {
      "text/plain": [
       "'The current president of Brazil is Jair Bolsonaro.'"
      ]
     },
     "execution_count": 7,
     "metadata": {},
     "output_type": "execute_result"
    }
   ],
   "source": [
    "from langchain.agents import initialize_agent, Tool\n",
    "from langchain.agents.agent_types import AgentType\n",
    "from langchain.memory import ConversationBufferMemory\n",
    "from langchain.tools import DuckDuckGoSearchRun\n",
    "\n",
    "search = DuckDuckGoSearchRun()\n",
    "tools = [Tool(name=\"Search\", func=search.run, description=\"Busca na web\")]\n",
    "memory = ConversationBufferMemory(memory_key=\"chat_history\", return_messages=True)\n",
    "agent = initialize_agent(tools, ChatOpenAI(), agent=AgentType.CONVERSATIONAL_REACT_DESCRIPTION, memory=memory)\n",
    "\n",
    "agent.run(\"Quem é o presidente do Brasil?\")"
   ]
  }
 ],
 "metadata": {
  "kernelspec": {
   "display_name": "venv",
   "language": "python",
   "name": "python3"
  },
  "language_info": {
   "codemirror_mode": {
    "name": "ipython",
    "version": 3
   },
   "file_extension": ".py",
   "mimetype": "text/x-python",
   "name": "python",
   "nbconvert_exporter": "python",
   "pygments_lexer": "ipython3",
   "version": "3.12.0"
  }
 },
 "nbformat": 4,
 "nbformat_minor": 5
}
